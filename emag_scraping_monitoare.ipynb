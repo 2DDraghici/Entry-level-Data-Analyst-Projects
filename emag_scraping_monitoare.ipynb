{
 "cells": [
  {
   "cell_type": "code",
   "execution_count": 37,
   "id": "ba9b3385-f7b9-4c01-8f3c-e06b9151e608",
   "metadata": {},
   "outputs": [],
   "source": [
    "#libraries\n",
    "from bs4 import BeautifulSoup\n",
    "import requests\n",
    "import smtplib\n",
    "import time\n",
    "import datetime\n",
    "import pandas as pd\n",
    "import re"
   ]
  },
  {
   "cell_type": "code",
   "execution_count": 28,
   "id": "e50fd0df-77d5-437f-bf87-2090bf4d913c",
   "metadata": {},
   "outputs": [],
   "source": [
    "url='https://www.emag.ro/monitoare-lcd-led/c?ref=hp_menu_quick-nav_23_3&type=category'\n",
    "HEADERS = {    \"User-Agent\": \"Mozilla/5.0 (Windows NT 10.0; Win64; x64) AppleWebKit/537.36 (KHTML, like Gecko) Chrome/126.0.0.0 Safari/537.36 OPR/112.0.0.0\"}\n"
   ]
  },
  {
   "cell_type": "code",
   "execution_count": 38,
   "id": "46906c09-0587-4a79-9394-c5353befe03a",
   "metadata": {},
   "outputs": [],
   "source": [
    "pagina_monitoare = requests.get(url, headers = HEADERS)"
   ]
  },
  {
   "cell_type": "code",
   "execution_count": 40,
   "id": "4b65d69e-ff5d-497f-b94a-967ac14bed4a",
   "metadata": {},
   "outputs": [
    {
     "data": {
      "text/plain": [
       "<Response [511]>"
      ]
     },
     "execution_count": 40,
     "metadata": {},
     "output_type": "execute_result"
    }
   ],
   "source": [
    "pagina_monitoare"
   ]
  },
  {
   "cell_type": "code",
   "execution_count": 31,
   "id": "90faef2c-eed2-46ab-b6f5-18da335bfa20",
   "metadata": {},
   "outputs": [
    {
     "data": {
      "text/plain": [
       "<!DOCTYPE html>\n",
       "<html class=\"lang_ro\" lang=\"ro\"><head><link href=\"https://www.emag.ro/\" rel=\"canonical\"/><meta charset=\"utf-8\"/><meta content=\"width=device-width, height=device-height, initial-scale=1.0, maximum-scale=1.0, user-scalable=0\" name=\"viewport\"><link href=\"//s13emagst.akamaized.net/assets/ro/css/icons/favicon.ico?v=2b\" rel=\"shortcut icon\"/><title>eMAG.ro</title> <script async=\"\" defer=\"\" src=\"https://challenges.cloudflare.com/turnstile/v0/api.js?compat=recaptcha&amp;hl=ro&amp;onload=lcb&amp;render=explicit\"></script> <style>body{background-color:#FFF;font-family:'Open Sans',Helvetica,Arial,sans-serif;font-size:1em}.captcha-widget,.emg-button{display:inline-block;position:relative;overflow:hidden;box-sizing:border-box}.m-title-container .emg-button{max-width:180px;text-decoration:none}.wrapper{max-width:315px;margin:0 auto}.wrapper-h-captcha .wrapper{max-width:350px}.captcha-widget{padding:20px;border:none;box-shadow:0px 0px 5px rgba(0,0,0,0.1);border-radius:12px;margin-bottom:10px;width:auto;float:left;display:flex;justify-content:center;align-items:center;flex-direction:column}.wrapper-h-captcha .captcha-widget{padding:20px 10px !important}.emg-button{border-radius:4px;border-color:#0082E6;border:1px solid;color:#fff;font-size:18px;font-weight:400;line-height:20px;padding:14px 20px;cursor:pointer;text-align:center;display:block;width:auto;outline:0;white-space:nowrap;font-weight:400;background-color:#0082E6;background-size:100%;box-shadow:none;box-sizing:border-box}.emg-button.emg-btn-large{font-size:18px;line-height:20px;display:block;width:100%}.emg-button.emg-btn-full{width:100%;overflow:visible}h2{font-size:1.3em;margin:0 0 10px}p{margin-bottom:7px;margin-top:4px;text-align:justify}.message{margin:10px;margin-bottom:10px}.cell-left{float:left;display:flex;justify-content:center;align-items:center;width:260px;margin-bottom:10px}.img{width:inherit;height:auto;margin-bottom:auto;margin-bottom:10px}.captcha-button{margin:0 6px}.cell-bottom{float:left;width:100%}#rcp{margin:10px;width:inherit;height:auto;object-fit:cover;margin-bottom:10px}.end{display:none}</style> <script async=\"\">var EM=EM||{};EM.as={f:true,t:'t',a:'11'};</script> <script type=\"text/javascript\">var color=1;var sx,sxw,rw;var asm=1;var arc=1;function esub(){clearInterval(sxw);sxw=setInterval(swc,500);if(asm===1&&chd()===1){document.getElementById('cpf').submit();document.getElementById('osub').disabled='disabled';}} function swc(){1==color?(color=0,document.getElementById(\"osub\").style.color=\"white\",document.getElementById(\"osub\").style.backgroundColor=\"#0082E6\"):(color=1,document.getElementById(\"osub\").style.color=\"#0082E6\",document.getElementById(\"osub\").style.backgroundColor=\"white\")} function lcbr(){rw=grecaptcha.render(document.getElementById('rcp'),{'sitekey':'0x4AAAAAAARAw-KcWdHjESY_','callback':esub,'error-callback':expcb,'expired-callback':expcb},true);setTimeout(grecaptcha.execute(rw),200)} function lcb(){if(arc===1){lcbr();}} function chd(){let rdd=0;try{rd=grecaptcha.getResponse(rw);if(rd.length>0){asm=1;rdd=1;}}catch{} return rdd;} function exgr(){if(arc===0){lcbr();arc=1;} document.getElementById(\"uc\").value=1;chd();esub();return false;} function expcb(){location.reload();} sx=setInterval(function(){try{var lastBodyDiv=document.getElementsByTagName(\"body\")[0].lastChild;if((lastBodyDiv.innerHTML!=='1')&&(lastBodyDiv.style.visibility!=='hidden')){document.getElementById(\"ss\").value=1;clearInterval(sx);}}catch{}},180);</script> </meta></head><body class=\"lang_ro wrapper-g-recaptcha\"><div class=\"wrapper\"><noscript><p>Trebuie să aveți JavaScript activat pentru a continua.</p> </noscript><div class=\"captcha-widget\" id=\"captcha-widget\"><div class=\"cell-left\"> <img class=\"img\" src=\"/images/eMAG_v1.svg\"/></div><form action=\"https://www.emag.ro/validate_captcha\" id=\"cpf\" method=\"post\"> <input id=\"ss\" name=\"ss\" type=\"hidden\" value=\"0\"/> <input id=\"uc\" name=\"uc\" type=\"hidden\" value=\"0\"/> <input id=\"t\" name=\"t\" type=\"hidden\" value=\"t\"/> <input id=\"ct\" name=\"ct\" type=\"hidden\" value=\"ro\"/><div class=\"message\"><p>Am detectat trafic neobișnuit de mare din rețeaua de internet în care te afli.</p></div><div class=\"g-recaptcha\" data-badge=\"inline\" data-size=\"normal\" data-theme=\"light\" id=\"rcp\"></div><div class=\"cell-bottom\"><div class=\"captcha-button\"> <input name=\"done\" type=\"hidden\" value=\"done\"> <button class=\"emg-button emg-btn-large emg-btn-full\" id=\"osub\" onclick=\"javascript: exgr();\" type=\"button\"> Validează</button></input></div></div></form></div></div> <script src=\"https://s13emagst.akamaized.net/assets/ro/js/aid_script-686e90ce1d7f040bbb82.min.js?c=35d5a67406476b98f\"></script> <div class=\"end\">1</div></body></html>"
      ]
     },
     "execution_count": 31,
     "metadata": {},
     "output_type": "execute_result"
    }
   ],
   "source": [
    "soup = BeautifulSoup(pagina_monitoare.content , 'html.parser')\n",
    "soup"
   ]
  },
  {
   "cell_type": "code",
   "execution_count": 32,
   "id": "ba927498-5a5b-42de-a90c-d2280fc3a6fc",
   "metadata": {},
   "outputs": [],
   "source": [
    "def find_monitor_links(soup):\n",
    "    links = soup.find_all('a')\n",
    "    link_list = []\n",
    "    for link in links:\n",
    "        href = link.get('href')\n",
    "        if href and 'https://www.emag.ro/monitor-' in href :\n",
    "            link_list.append(href)\n",
    "\n",
    "    return link_list\n",
    "\n",
    "\n"
   ]
  },
  {
   "cell_type": "code",
   "execution_count": 33,
   "id": "ad1086e3-8936-4782-b810-23259af87658",
   "metadata": {},
   "outputs": [],
   "source": [
    "link_list = set(find_monitor_links(soup))\n"
   ]
  },
  {
   "cell_type": "code",
   "execution_count": 34,
   "id": "cc7d548a-cf9f-4687-bf1b-07b903883eff",
   "metadata": {},
   "outputs": [
    {
     "data": {
      "text/plain": [
       "0"
      ]
     },
     "execution_count": 34,
     "metadata": {},
     "output_type": "execute_result"
    }
   ],
   "source": [
    "len(link_list)"
   ]
  },
  {
   "cell_type": "code",
   "execution_count": 36,
   "id": "2e7b7c88-75a9-4e18-a493-5e41efe60e9c",
   "metadata": {},
   "outputs": [
    {
     "ename": "AttributeError",
     "evalue": "'NoneType' object has no attribute 'find_all'",
     "output_type": "error",
     "traceback": [
      "\u001b[1;31m---------------------------------------------------------------------------\u001b[0m",
      "\u001b[1;31mAttributeError\u001b[0m                            Traceback (most recent call last)",
      "Cell \u001b[1;32mIn[36], line 3\u001b[0m\n\u001b[0;32m      1\u001b[0m possible_resolutions \u001b[38;5;241m=\u001b[39m []\n\u001b[0;32m      2\u001b[0m resolution_box \u001b[38;5;241m=\u001b[39m soup\u001b[38;5;241m.\u001b[39mfind(\u001b[38;5;124m'\u001b[39m\u001b[38;5;124mdiv\u001b[39m\u001b[38;5;124m'\u001b[39m,\u001b[38;5;28mid\u001b[39m \u001b[38;5;241m=\u001b[39m \u001b[38;5;124m'\u001b[39m\u001b[38;5;124mjs-filter-9839-collapse\u001b[39m\u001b[38;5;124m'\u001b[39m)\n\u001b[1;32m----> 3\u001b[0m resolution_box \u001b[38;5;241m=\u001b[39m  resolution_box\u001b[38;5;241m.\u001b[39mfind_all(\u001b[38;5;124m'\u001b[39m\u001b[38;5;124ma\u001b[39m\u001b[38;5;124m'\u001b[39m)\n\u001b[0;32m      4\u001b[0m \u001b[38;5;28mprint\u001b[39m(resolution_box)\n\u001b[0;32m      5\u001b[0m \u001b[38;5;28;01mfor\u001b[39;00m resolution \u001b[38;5;129;01min\u001b[39;00m resolution_box:\n",
      "\u001b[1;31mAttributeError\u001b[0m: 'NoneType' object has no attribute 'find_all'"
     ]
    }
   ],
   "source": [
    "\n",
    "possible_resolutions = []\n",
    "resolution_box = soup.find('div',id = 'js-filter-9839-collapse')\n",
    "resolution_box =  resolution_box.find_all('a')\n",
    "print(resolution_box)\n",
    "for resolution in resolution_box:\n",
    "    possible_resolutions.append(resolution.text.splitlines())\n",
    "possible_resolutions\n",
    "cleaned_list = []\n",
    "for item in possible_resolutions:\n",
    "    for elem in item:\n",
    "        cleaned_list.append(elem)\n",
    "\n"
   ]
  },
  {
   "cell_type": "code",
   "execution_count": null,
   "id": "03b0c2c2-c291-422e-a114-638536cad886",
   "metadata": {},
   "outputs": [],
   "source": [
    "\n",
    "resolution_pattern = r'\\d{3,4}\\s*[xX×]\\s*\\d{3,4}'\n",
    "matching_patterns = [item for item in cleaned_list if re.match(resolution_pattern,item)]\n",
    "print(sorted(matching_patterns))"
   ]
  },
  {
   "cell_type": "code",
   "execution_count": null,
   "id": "e3356738-486a-4685-aa96-9bba88ffbf3a",
   "metadata": {},
   "outputs": [],
   "source": [
    "non_qm_link_list = []\n",
    "\n",
    "\n",
    "\n",
    "for link in link_list:\n",
    "    if link[-1] != '?':\n",
    "       \n",
    "        non_qm_link_list.append(link)\n",
    "      "
   ]
  },
  {
   "cell_type": "code",
   "execution_count": null,
   "id": "8528c325-6b37-4fad-9bc9-9ef87781e501",
   "metadata": {},
   "outputs": [],
   "source": [
    "print('\\n'.join(non_qm_link_list))"
   ]
  },
  {
   "cell_type": "code",
   "execution_count": null,
   "id": "743a7aa7-846f-4fcd-ae20-6401a5f3a34f",
   "metadata": {},
   "outputs": [],
   "source": [
    "len(non_qm_link_list)"
   ]
  },
  {
   "cell_type": "code",
   "execution_count": null,
   "id": "978c111c-403f-4553-a211-7a6ddcb21c6c",
   "metadata": {},
   "outputs": [],
   "source": [
    "produs_de_test = requests.get(non_qm_link_list[0], headers = HEADERS)\n",
    "produs_de_test\n"
   ]
  },
  {
   "cell_type": "code",
   "execution_count": null,
   "id": "11d23348-d267-4d95-92ac-e59b55fd2f52",
   "metadata": {},
   "outputs": [],
   "source": [
    "test_soup = BeautifulSoup(produs_de_test.content , 'html.parser')\n",
    "import difflib\n",
    "\n",
    "tabel_specificatii = test_soup.find_all('td' , class_ =\"col-xs-8\")\n",
    "specificatii = [specificatie.text.strip() for specificatie in tabel_specificatii]\n",
    "\n",
    "\n",
    "def find_most_similar_pair(list1, list2):\n",
    "    best_pair = (None, None)\n",
    "    best_similarity = 0.0\n",
    "    \n",
    "    for item1 in list1:\n",
    "        for item2 in list2:\n",
    "            # Calculate the similarity ratio between the two items\n",
    "            similarity = difflib.SequenceMatcher(None, item1, item2).ratio()\n",
    "            \n",
    "            # If this pair has a higher similarity score, update best_pair\n",
    "            if similarity > best_similarity:\n",
    "                best_pair = (item1, item2)\n",
    "                best_similarity = similarity\n",
    "                \n",
    "    return best_pair\n",
    "\n",
    "# Get the most similar pair and its similarity score\n",
    "most_similar_pair = find_most_similar_pair(specificatii,matching_patterns)\n",
    "most_similar_pair[0]\n",
    "\n",
    "pattern_refresh_rate = r\"\\d+\\s*[Hh][Zz]\"\n",
    "refresh_rate = [re.findall(pattern_refresh_rate,specificatie) for specificatie in specificatii]\n",
    "refresh_rate = [item for sublist in refresh_rate for item in sublist]\n",
    "print('the refresh rate is ')\n",
    "print(refresh_rate)\n",
    "specificatii\n",
    "\n",
    "pattern = r'(\\d+\\.?\\d*)\\s?(inch)'\n",
    "\n",
    "\n",
    "dimension = [re.findall(pattern,specificatie) for specificatie in specificatii]\n",
    "dimension = [item for sublist in dimension for item in sublist]\n",
    "print('the dimension is ')\n",
    "print(dimension)\n",
    "dimension = dimension[0][0] + ' ' +  dimension[0][1]\n",
    "dimension\n",
    "\n",
    "\n",
    "\n",
    "#cod produs\n",
    "cod_produs  = test_soup.find('span' , class_=\"product-code-display hidden-xs\")\n",
    "cod_produs.text.strip().split()[2]"
   ]
  },
  {
   "cell_type": "code",
   "execution_count": null,
   "id": "094a52ea-f851-40da-85be-7bb9a803f633",
   "metadata": {},
   "outputs": [],
   "source": []
  },
  {
   "cell_type": "code",
   "execution_count": null,
   "id": "d0dce549-c3c4-4669-bcd1-efd6ac63eb27",
   "metadata": {},
   "outputs": [],
   "source": [
    "coloane = ['Nume' , 'Firma'  , 'Pret' , 'Dimensiune (Inci)' , 'Rezolutie' , 'Refresh rate' , 'Rating', 'Nr Review', 'Cod produs']"
   ]
  },
  {
   "cell_type": "code",
   "execution_count": null,
   "id": "4376545b-c1e3-448d-a4b5-f0faf98b662c",
   "metadata": {},
   "outputs": [],
   "source": []
  },
  {
   "cell_type": "code",
   "execution_count": null,
   "id": "7eeec917-b7b2-4023-bcfb-b5bc737a6e8f",
   "metadata": {},
   "outputs": [],
   "source": [
    "header = pd.DataFrame(columns = coloane)\n",
    "header"
   ]
  },
  {
   "cell_type": "markdown",
   "id": "c9c7b855-7d8f-486d-b8e9-7bf65b85052c",
   "metadata": {},
   "source": [
    "## Get Monitor Information"
   ]
  },
  {
   "cell_type": "code",
   "execution_count": null,
   "id": "7f2fbb05-0719-4450-8534-30a0a8110911",
   "metadata": {},
   "outputs": [],
   "source": [
    "def get_monitor_information(monitor):\n",
    "    monitor_details = []\n",
    "\n",
    "    #get the name of the monitor\n",
    "    product_name = monitor.find('title').text\n",
    "    if ' - eMAG.ro' in product_name: product_name = product_name.removesuffix(' - eMAG.ro')\n",
    "    monitor_details.append(product_name)\n",
    "    print(\"The name of the monitor was added\")\n",
    "    print(monitor_details)\n",
    "\n",
    "    #get the name of the brand/firm\n",
    "    brand = 'Brand: '\n",
    "    p_tags = monitor.find_all('p')\n",
    "\n",
    "   \n",
    "    for p in p_tags:\n",
    "        if 'Brand:' in p.text:\n",
    "            # Extract the brand name from the <a> tag\n",
    "            brand_name = p.find('a').text\n",
    "            break\n",
    "    if brand_name:\n",
    "        monitor_details.append(brand_name)\n",
    "        print(\"The name of the brand was added\")\n",
    "        print(monitor_details)\n",
    "    else: \n",
    "        brand_name = 'not found'\n",
    "        monitor_details.append(brand_name)\n",
    "        print(\"The name of the brand was not found\")\n",
    "        print(monitor_details)\n",
    "\n",
    "\n",
    "\n",
    "    #getting the price\n",
    "    \n",
    "    price = monitor.find('p' , class_ = 'product-new-price' )\n",
    "    \n",
    "    if price:\n",
    "        price = price.text\n",
    "        monitor_details.append(price)\n",
    "        print(\"The price of the monitor was added\")\n",
    "        print(monitor_details)\n",
    "    else:\n",
    "        price = 'not found'\n",
    "        monitor_details.append(price)\n",
    "        print(\"The price was not found\")\n",
    "        print(monitor_details)\n",
    "        \n",
    "    \n",
    "\n",
    "    #getting the dimension\n",
    "    \n",
    "    tabel_specificatii = monitor.find_all('td' , class_ =\"col-xs-8\")\n",
    "    specificatii = [specificatie.text.strip() for specificatie in tabel_specificatii]\n",
    "    pattern = r'(\\d+\\.?\\d*)\\s?(inch)'\n",
    "\n",
    "\n",
    "    dimension = [re.findall(pattern,specificatie) for specificatie in specificatii]\n",
    "    dimension = [item for sublist in dimension for item in sublist]\n",
    "    if dimension:\n",
    "        print('the dimension is ')\n",
    "        print(dimension)\n",
    "        dimension = dimension[0][0] + ' ' +  dimension[0][1]\n",
    " \n",
    "    \n",
    "    if dimension:\n",
    "            monitor_details.append(dimension)\n",
    "            print('the dimension was added')\n",
    "            print(monitor_details)  \n",
    "    else: \n",
    "            dimension = 'not found'\n",
    "            monitor_details.append(dimension)\n",
    "            print('the dimension could not be found')\n",
    "            print(monitor_details) \n",
    "            \n",
    "\n",
    "\n",
    "    #getting the resolutiion\n",
    "\n",
    "    \n",
    "    rezolutie_pereche = find_most_similar_pair(specificatii,matching_patterns)\n",
    "    rezolutie = rezolutie_pereche[0]\n",
    "  \n",
    "    if rezolutie:\n",
    "        monitor_details.append(rezolutie)\n",
    "        print('Added resolution')\n",
    "        print(monitor_details) \n",
    "    else: \n",
    "        monitor_details.append('not found')\n",
    "        print('the refresh_rate could not be found')\n",
    "        print(monitor_details) \n",
    "\n",
    "    #getting the refresh rate\n",
    "\n",
    "    pattern_refresh_rate = r\"\\d+\\s*[Hh][Zz]\"\n",
    "    refresh_rate = [re.findall(pattern_refresh_rate,specificatie) for specificatie in specificatii]\n",
    "    refresh_rate = [item for sublist in refresh_rate for item in sublist]\n",
    "    print('the refresh rate is ')\n",
    "    print(refresh_rate)\n",
    "    \n",
    "    if refresh_rate:\n",
    "            monitor_details.append(refresh_rate)\n",
    "            print('the refresh rate was added')\n",
    "            print(monitor_details)  \n",
    "    else: \n",
    "            refresh_rate = 'not found'\n",
    "            monitor_details.append(refresh_rate)\n",
    "            print('the refresh_rate could not be found')\n",
    "            print(monitor_details) \n",
    "            \n",
    "\n",
    "    #getting the rating and number of reviews\n",
    "    if monitor.find('a', class_  =  'rating-text gtm_rp101318' ) is None:\n",
    "\n",
    "        print('No reviews or rating')\n",
    "        rating = 'No rating'\n",
    "        monitor_details.append(rating)\n",
    "\n",
    "        no_of_reviews = 'no reviews'\n",
    "        monitor_details.append(no_of_reviews)\n",
    "    \n",
    "        print(monitor_details)\n",
    "\n",
    "        \n",
    "    else:\n",
    "        review_and_ratings = monitor.find('a', class_  =  'rating-text gtm_rp101318' ).text.splitlines()\n",
    "        del review_and_ratings[0]\n",
    "        rating = review_and_ratings[0].strip()\n",
    "        monitor_details.append(rating)\n",
    "        print('the rating was added')\n",
    "        print(monitor_details)\n",
    "\n",
    "        no_of_reviews = review_and_ratings[1].strip()\n",
    "        monitor_details.append(no_of_reviews)\n",
    "        print('the number of reviews  was added')\n",
    "        print(monitor_details)\n",
    "\n",
    "    #getting the code\n",
    "\n",
    "    if monitor.find('span' , class_=\"product-code-display hidden-xs\") is None:\n",
    "        print('No code found')\n",
    "        cod_produs = 'No code'\n",
    "        monitor_details.append(cod_produs)    \n",
    "        print(monitor_details)\n",
    "    else:\n",
    "        cod_produs = monitor.find('span' , class_=\"product-code-display hidden-xs\")\n",
    "        cod_produs = cod_produs.text.strip().split()[2]\n",
    "        monitor_details.append(cod_produs)\n",
    "        print('the product code was added')\n",
    "        print(monitor_details)\n",
    "\n",
    "   \n",
    "    return(monitor_details)\n",
    "\n",
    "    \n",
    "\n",
    "    "
   ]
  },
  {
   "cell_type": "code",
   "execution_count": null,
   "id": "83a1ea54-bf3b-4cb9-bc02-cbf453b3f377",
   "metadata": {},
   "outputs": [],
   "source": [
    "    header = pd.DataFrame(columns = coloane)\n",
    "    header"
   ]
  },
  {
   "cell_type": "code",
   "execution_count": null,
   "id": "63a5a0d8-5afc-46a4-baf6-a05c5aac8c6a",
   "metadata": {},
   "outputs": [],
   "source": [
    "test_soup.find_all('li')"
   ]
  },
  {
   "cell_type": "code",
   "execution_count": null,
   "id": "10d00cee-0a7e-45d8-9531-98dc9064f3a1",
   "metadata": {},
   "outputs": [],
   "source": [
    "link_emag = f'https://www.emag.ro/monitoare-lcd-led/p89/c'\n",
    "pagina_monitoare = requests.get(url, headers = HEADERS)\n",
    "pagina_monitoare"
   ]
  },
  {
   "cell_type": "code",
   "execution_count": null,
   "id": "a3dca9a2-865f-4c50-a838-2330511bef8f",
   "metadata": {},
   "outputs": [],
   "source": [
    "import math\n",
    "numar_de_produse = soup.find('span' , class_ = 'title-phrasing title-phrasing-sm').text\n",
    "numar_de_produse = int( numar_de_produse[:4])\n",
    "numar_de_pagini = math.ceil(numar_de_produse / 60)\n",
    "numar_de_pagini  \n",
    "for x in range(2,numar_de_pagini):\n",
    "    print(x)"
   ]
  },
  {
   "cell_type": "markdown",
   "id": "b88d88bd-f2d2-4cc0-b688-ad93f975012b",
   "metadata": {},
   "source": [
    "## Getting the monitors script"
   ]
  },
  {
   "cell_type": "code",
   "execution_count": null,
   "id": "c90eab88-982e-4938-a78d-cc65e3ccc9cc",
   "metadata": {},
   "outputs": [],
   "source": [
    "coloane = ['Nume' , 'Firma'  , 'Pret' , 'Dimensiune (Inci)' , 'Rezolutie' , 'Refresh rate' , 'Rating', 'Nr Review','Cod produs']\n",
    "header = pd.DataFrame(columns = coloane)\n",
    "header\n",
    "from termcolor import colored\n",
    "\n",
    "for x in range(2,numar_de_pagini+1):\n",
    "    link_emag = f'https://www.emag.ro/monitoare-lcd-led/p{x}/c'\n",
    "    print(colored('Link emag este '+ link_emag , 'green' ) )\n",
    "    pagina_monitoare = requests.get(link_emag, headers = HEADERS)\n",
    "    \n",
    "    soup = BeautifulSoup(pagina_monitoare.content , 'html.parser')\n",
    "    link_list = find_monitor_links(soup)\n",
    "    link_list = set(link_list)\n",
    "    non_qm_link_list = []\n",
    "    for link in link_list:\n",
    "        if link[-1] != '?':\n",
    "            non_qm_link_list.append(link)\n",
    "\n",
    "    for monitor in non_qm_link_list:\n",
    "        print(monitor)\n",
    "        produs_de_test = requests.get(monitor, headers = HEADERS)\n",
    "        monitor_soup = BeautifulSoup(produs_de_test.content , 'html.parser')\n",
    "        monitor_details = get_monitor_information(monitor_soup)\n",
    "        length = len(header)\n",
    "        header.loc[length] = monitor_details\n",
    "\n",
    "      "
   ]
  },
  {
   "cell_type": "code",
   "execution_count": null,
   "id": "b31b7fb2-96fc-4898-91c7-f57f557554c6",
   "metadata": {},
   "outputs": [],
   "source": [
    "header"
   ]
  },
  {
   "cell_type": "code",
   "execution_count": null,
   "id": "726cb613-4840-45dd-98a9-48ce1af70d64",
   "metadata": {},
   "outputs": [],
   "source": [
    "header.to_excel(r\"C:\\panda_folder_files\\monitoare_emag_data_3.xlsx\", index = False)"
   ]
  },
  {
   "cell_type": "code",
   "execution_count": null,
   "id": "cba35e69-aec5-4616-a080-481db28a72c7",
   "metadata": {},
   "outputs": [],
   "source": []
  }
 ],
 "metadata": {
  "kernelspec": {
   "display_name": "Python 3 (ipykernel)",
   "language": "python",
   "name": "python3"
  },
  "language_info": {
   "codemirror_mode": {
    "name": "ipython",
    "version": 3
   },
   "file_extension": ".py",
   "mimetype": "text/x-python",
   "name": "python",
   "nbconvert_exporter": "python",
   "pygments_lexer": "ipython3",
   "version": "3.12.4"
  }
 },
 "nbformat": 4,
 "nbformat_minor": 5
}
